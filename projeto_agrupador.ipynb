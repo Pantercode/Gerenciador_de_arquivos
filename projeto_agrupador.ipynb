{
  "cells": [
    {
      "cell_type": "markdown",
      "metadata": {
        "id": "view-in-github",
        "colab_type": "text"
      },
      "source": [
        "<a href=\"https://colab.research.google.com/github/Pantercode/Gerenciador_de_arquivos/blob/main/projeto_agrupador.ipynb\" target=\"_parent\"><img src=\"https://colab.research.google.com/assets/colab-badge.svg\" alt=\"Open In Colab\"/></a>"
      ]
    },
    {
      "cell_type": "markdown",
      "metadata": {
        "id": "bB57b8CnhsaU"
      },
      "source": [
        "Projeto Agrupador de pastas conforme a extensão"
      ]
    },
    {
      "cell_type": "code",
      "execution_count": null,
      "metadata": {
        "id": "ailuBJ6EhsaW"
      },
      "outputs": [],
      "source": [
        "import os"
      ]
    },
    {
      "cell_type": "code",
      "execution_count": null,
      "metadata": {
        "id": "5tFEoTIkhsaX"
      },
      "outputs": [],
      "source": [
        "#caminnho onde o organizador vai trabalhar\n",
        "os.chdir(r'C:\\Users\\marce\\Downloads')"
      ]
    },
    {
      "cell_type": "code",
      "execution_count": null,
      "metadata": {
        "id": "o8Ldi9AhhsaX"
      },
      "outputs": [],
      "source": [
        "#listar a pasta\n",
        "arquivos = os.listdir()"
      ]
    },
    {
      "cell_type": "code",
      "execution_count": null,
      "metadata": {
        "id": "UBy0huHShsaY"
      },
      "outputs": [],
      "source": [
        "#Percorendo somente os arquivos\n",
        "lista_arquivos = [arq.lower() for arq in arquivos if os.path.isfile(arq)]"
      ]
    },
    {
      "cell_type": "code",
      "execution_count": null,
      "metadata": {
        "id": "ujxFd0QwhsaY",
        "outputId": "73cbea7c-673b-47d5-b936-3f3035323136"
      },
      "outputs": [
        {
          "data": {
            "text/plain": [
              "['02-formula1.zip',\n",
              " 'anaconda3-2024.02-1-windows-x86_64.exe',\n",
              " 'archive.zip',\n",
              " 'arquivo.txt.txt',\n",
              " 'chromesetup (1).exe',\n",
              " 'chromesetup.exe',\n",
              " 'dados.zip',\n",
              " 'desktop.ini',\n",
              " 'doc.docx.txt',\n",
              " 'doc.xlsx.txt',\n",
              " 'doc.xlsx.xlsx',\n",
              " 'officesetup.exe',\n",
              " 'python-3.12.2-amd64 (1).exe',\n",
              " 'python-3.12.2-amd64.exe',\n",
              " 'vscodeusersetup-x64-1.86.2.exe']"
            ]
          },
          "execution_count": 80,
          "metadata": {},
          "output_type": "execute_result"
        }
      ],
      "source": [
        "# listas arquivos\n",
        "lista_arquivos"
      ]
    },
    {
      "cell_type": "code",
      "execution_count": null,
      "metadata": {
        "id": "4wqai9oGhsaZ",
        "outputId": "5fe3be19-f093-46c7-8b19-d5674187d444"
      },
      "outputs": [
        {
          "data": {
            "text/plain": [
              "'zip'"
            ]
          },
          "execution_count": 81,
          "metadata": {},
          "output_type": "execute_result"
        }
      ],
      "source": [
        "'02-Formula1.zip'.split(\".\")[- 1]"
      ]
    },
    {
      "cell_type": "code",
      "execution_count": null,
      "metadata": {
        "id": "ne6jdRQuhsaZ"
      },
      "outputs": [],
      "source": [
        "#analisando\n",
        "lista_de_tipos = {tipo.split(\".\")[- 1] for tipo in lista_arquivos}"
      ]
    },
    {
      "cell_type": "code",
      "execution_count": null,
      "metadata": {
        "id": "mYvrTg68hsaZ",
        "outputId": "75059fd5-d4cc-44fe-ca6b-45e18546a46d"
      },
      "outputs": [
        {
          "data": {
            "text/plain": [
              "{'exe', 'ini', 'txt', 'xlsx', 'zip'}"
            ]
          },
          "execution_count": 83,
          "metadata": {},
          "output_type": "execute_result"
        }
      ],
      "source": [
        "lista_de_tipos"
      ]
    },
    {
      "cell_type": "code",
      "execution_count": null,
      "metadata": {
        "id": "jyG04QMUhsaa"
      },
      "outputs": [],
      "source": [
        "#criando pastas de acordo com o final das extensoes\n",
        "for tipo in lista_de_tipos:\n",
        "    if os.path.exists(tipo):\n",
        "        pass\n",
        "    else:\n",
        "        os.mkdir(tipo)"
      ]
    },
    {
      "cell_type": "code",
      "execution_count": null,
      "metadata": {
        "id": "HY4MIbPChsaa",
        "outputId": "4dee8281-72dd-404e-cc9d-f9e0ada9e861"
      },
      "outputs": [
        {
          "data": {
            "text/plain": [
              "'txt'"
            ]
          },
          "execution_count": 85,
          "metadata": {},
          "output_type": "execute_result"
        }
      ],
      "source": [
        "tipo"
      ]
    },
    {
      "cell_type": "code",
      "execution_count": null,
      "metadata": {
        "id": "ADc3SZtAhsab"
      },
      "outputs": [],
      "source": [
        "#Pegar caminho absoluto e inserindo dados\n",
        "for arquivos in lista_arquivos:\n",
        "    pasta_destino = arquivos.split(\".\")[- 1]\n",
        "    diretorio_atual = os.path.join(os.getcwd(), arquivos)\n",
        "    diretorio_insercao = os.path.join(os.getcwd(), pasta_destino, arquivos)\n",
        "    if os.path.exists(diretorio_atual):\n",
        "        os.replace(diretorio_atual,diretorio_insercao)\n"
      ]
    },
    {
      "cell_type": "code",
      "execution_count": null,
      "metadata": {
        "id": "pFtnk0S5hsab"
      },
      "outputs": [],
      "source": []
    }
  ],
  "metadata": {
    "kernelspec": {
      "display_name": "Python 3",
      "language": "python",
      "name": "python3"
    },
    "language_info": {
      "codemirror_mode": {
        "name": "ipython",
        "version": 3
      },
      "file_extension": ".py",
      "mimetype": "text/x-python",
      "name": "python",
      "nbconvert_exporter": "python",
      "pygments_lexer": "ipython3",
      "version": "3.12.2"
    },
    "colab": {
      "provenance": [],
      "include_colab_link": true
    }
  },
  "nbformat": 4,
  "nbformat_minor": 0
}